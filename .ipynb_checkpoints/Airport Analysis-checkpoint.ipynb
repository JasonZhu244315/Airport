{
 "cells": [
  {
   "cell_type": "markdown",
   "id": "efd34a12-8bba-475f-ab25-716a988b9897",
   "metadata": {},
   "source": [
    "<div class=\"alert alert-block alert-info\">\n",
    "<h3> <b> Airport Round Trip Route Analysis <b></h3>\n",
    "<div>"
   ]
  },
  {
   "cell_type": "markdown",
   "id": "ad05109b-93aa-4bd5-aeb4-ed4ce95f722a",
   "metadata": {},
   "source": [
    "<div class=\"alert alert-block alert-success\">\n",
    "    \n",
    "##### **Author: Ziyao (Jason) Zhu**\n",
    "##### **Date: 2022 Nov**\n",
    "    \n",
    "</div>"
   ]
  },
  {
   "cell_type": "markdown",
   "id": "f2c79ca5-5899-4075-9bec-2d213111374a",
   "metadata": {
    "tags": []
   },
   "source": [
    "## **0.Set Environment**"
   ]
  },
  {
   "cell_type": "markdown",
   "id": "6f23a0e8-dae7-40a5-9d1c-0a2ba9b580e6",
   "metadata": {
    "tags": []
   },
   "source": [
    "### 0.1 Import Packages"
   ]
  },
  {
   "cell_type": "code",
   "execution_count": 1,
   "id": "9d92608f-f55a-4f45-9860-c1b0b9bc5255",
   "metadata": {
    "tags": []
   },
   "outputs": [
    {
     "data": {
      "application/javascript": [
       "\n",
       "        if (window._pyforest_update_imports_cell) { window._pyforest_update_imports_cell('import pandas as pd'); }\n",
       "    "
      ],
      "text/plain": [
       "<IPython.core.display.Javascript object>"
      ]
     },
     "metadata": {},
     "output_type": "display_data"
    },
    {
     "data": {
      "application/javascript": [
       "\n",
       "        if (window._pyforest_update_imports_cell) { window._pyforest_update_imports_cell('import pandas as pd'); }\n",
       "    "
      ],
      "text/plain": [
       "<IPython.core.display.Javascript object>"
      ]
     },
     "metadata": {},
     "output_type": "display_data"
    },
    {
     "data": {
      "application/javascript": [
       "\n",
       "        if (window._pyforest_update_imports_cell) { window._pyforest_update_imports_cell('import pandas as pd'); }\n",
       "    "
      ],
      "text/plain": [
       "<IPython.core.display.Javascript object>"
      ]
     },
     "metadata": {},
     "output_type": "display_data"
    }
   ],
   "source": [
    "# Import packages and set options\n",
    "import pyforest\n",
    "import copy\n",
    "import string\n",
    "import missingno as msno\n",
    "\n",
    "from CapitalOne import download_data, check_data, utils\n",
    "from CapitalOne.get_data import GetData\n",
    "\n",
    "import plotly.express as px\n",
    "import plotly.graph_objects as go\n",
    "\n",
    "import warnings\n",
    "warnings.filterwarnings(\"ignore\")\n",
    "\n",
    "# pd.set_option(\"display.max_rows\", None)\n",
    "pd.set_option(\"display.max_columns\", None)\n",
    "pd.set_option(\"display.max_colwidth\", None)\n",
    "pd.set_option(\"display.float_format\", lambda x: \"%.2f\" %x) # suppress scientific notation\n",
    "\n",
    "%load_ext autoreload\n",
    "%autoreload 2"
   ]
  },
  {
   "cell_type": "markdown",
   "id": "3bf2b91f-763a-4cc4-b852-2f8648c4d64d",
   "metadata": {
    "tags": []
   },
   "source": [
    "### 0.2 Set Directory"
   ]
  },
  {
   "cell_type": "code",
   "execution_count": null,
   "id": "dd802ed1-240d-4917-9334-9b386cdb8957",
   "metadata": {
    "tags": []
   },
   "outputs": [],
   "source": [
    "# Create/change data import file path\n",
    "if os.path.exists(\"data\"):\n",
    "    import_file_path = os.path.join(os.getcwd(), \"data\")\n",
    "    print(\"Import file path is:\", import_file_path)\n",
    "else: \n",
    "    os.mkdir(\"data\")\n",
    "    print(\"data folder created\")"
   ]
  },
  {
   "cell_type": "code",
   "execution_count": null,
   "id": "ebb26505-15da-484d-a1e9-898eb4f290c9",
   "metadata": {
    "tags": []
   },
   "outputs": [],
   "source": [
    "# Create/change result export file path\n",
    "if os.path.exists(\"result\"):\n",
    "    result_file_path = os.path.join(os.getcwd(), \"result\")\n",
    "    print(\"Result file path is:\", result_file_path)\n",
    "else: \n",
    "    os.mkdir(\"result\")\n",
    "    print(\"result folder created\")"
   ]
  },
  {
   "cell_type": "markdown",
   "id": "1bee6c40-49e3-4156-bd99-7c9561c6f444",
   "metadata": {
    "tags": []
   },
   "source": [
    "### 0.3 Download Data to \"data\" folder"
   ]
  },
  {
   "cell_type": "code",
   "execution_count": null,
   "id": "265137d7-c575-4091-a165-c004386bd510",
   "metadata": {
    "tags": []
   },
   "outputs": [],
   "source": [
    "# Download & extract data from github\n",
    "download_data.main()"
   ]
  },
  {
   "cell_type": "markdown",
   "id": "677e277e-1b57-43a0-b86e-c0c5d1f0153b",
   "metadata": {
    "tags": []
   },
   "source": [
    "## **1.Import Data**"
   ]
  },
  {
   "cell_type": "code",
   "execution_count": 103,
   "id": "9e8e6573-c572-4c6d-871f-5a85ef90578c",
   "metadata": {},
   "outputs": [
    {
     "name": "stdout",
     "output_type": "stream",
     "text": [
      "Data dictionary generated\n"
     ]
    },
    {
     "data": {
      "text/plain": [
       "dict_keys(['Airport_Codes', 'Flights', 'Tickets'])"
      ]
     },
     "execution_count": 103,
     "metadata": {},
     "output_type": "execute_result"
    }
   ],
   "source": [
    "# Get data stored in dictionary\n",
    "data = GetData().get_data()\n",
    "data.keys()"
   ]
  },
  {
   "cell_type": "code",
   "execution_count": 104,
   "id": "62de84fd-9c87-4e3c-9d4a-dd8cf8857092",
   "metadata": {},
   "outputs": [],
   "source": [
    "# Get datasets\n",
    "airport_codes = data.get(\"Airport_Codes\")\n",
    "flights = data.get(\"Flights\")\n",
    "tickets = data.get(\"Tickets\")"
   ]
  },
  {
   "cell_type": "code",
   "execution_count": 105,
   "id": "02c4fb1d-2a13-41a1-9060-bcdd9a3f51e0",
   "metadata": {},
   "outputs": [],
   "source": [
    "# Remove out of scope observations based on business requirement\n",
    "airport_codes = airport_codes[(airport_codes[\"TYPE\"].isin([\"large_airport\", \"medium_airport\"])) & (airport_codes[\"ISO_COUNTRY\"] == \"US\")].reset_index(drop = True)\n",
    "flights = flights[flights[\"CANCELLED\"] == 0].reset_index(drop = True)\n",
    "tickets = tickets[tickets[\"ROUNDTRIP\"] == 1].reset_index(drop = True)"
   ]
  },
  {
   "cell_type": "markdown",
   "id": "240c8b0d-9831-4b2e-9814-2490fca55377",
   "metadata": {
    "tags": []
   },
   "source": [
    "## **2.Data Quality Check**"
   ]
  },
  {
   "cell_type": "markdown",
   "id": "6c7736fa-9572-4f53-b769-da44378c798f",
   "metadata": {
    "tags": []
   },
   "source": [
    "### 2.1 Basic Information"
   ]
  },
  {
   "cell_type": "code",
   "execution_count": 101,
   "id": "d78c73da-7d29-42d6-bc50-1bfc477b04a2",
   "metadata": {
    "collapsed": true,
    "jupyter": {
     "outputs_hidden": true
    },
    "tags": []
   },
   "outputs": [
    {
     "name": "stdout",
     "output_type": "stream",
     "text": [
      "<class 'pandas.core.frame.DataFrame'>\n",
      "RangeIndex: 1859862 entries, 0 to 1859861\n",
      "Data columns (total 16 columns):\n",
      " #   Column             Dtype  \n",
      "---  ------             -----  \n",
      " 0   FL_DATE            object \n",
      " 1   OP_CARRIER         object \n",
      " 2   TAIL_NUM           object \n",
      " 3   OP_CARRIER_FL_NUM  object \n",
      " 4   ORIGIN_AIRPORT_ID  int64  \n",
      " 5   ORIGIN             object \n",
      " 6   ORIGIN_CITY_NAME   object \n",
      " 7   DEST_AIRPORT_ID    int64  \n",
      " 8   DESTINATION        object \n",
      " 9   DEST_CITY_NAME     object \n",
      " 10  DEP_DELAY          float64\n",
      " 11  ARR_DELAY          float64\n",
      " 12  CANCELLED          float64\n",
      " 13  AIR_TIME           object \n",
      " 14  DISTANCE           object \n",
      " 15  OCCUPANCY_RATE     float64\n",
      "dtypes: float64(4), int64(2), object(10)\n",
      "memory usage: 227.0+ MB\n",
      "<class 'pandas.core.frame.DataFrame'>\n",
      "RangeIndex: 661036 entries, 0 to 661035\n",
      "Data columns (total 12 columns):\n",
      " #   Column             Non-Null Count   Dtype  \n",
      "---  ------             --------------   -----  \n",
      " 0   ITIN_ID            661036 non-null  int64  \n",
      " 1   YEAR               661036 non-null  int64  \n",
      " 2   QUARTER            661036 non-null  int64  \n",
      " 3   ORIGIN             661036 non-null  object \n",
      " 4   ORIGIN_COUNTRY     661036 non-null  object \n",
      " 5   ORIGIN_STATE_ABR   661036 non-null  object \n",
      " 6   ORIGIN_STATE_NM    661036 non-null  object \n",
      " 7   ROUNDTRIP          661036 non-null  float64\n",
      " 8   REPORTING_CARRIER  661036 non-null  object \n",
      " 9   PASSENGERS         660076 non-null  float64\n",
      " 10  ITIN_FARE          660585 non-null  object \n",
      " 11  DESTINATION        661036 non-null  object \n",
      "dtypes: float64(2), int64(3), object(7)\n",
      "memory usage: 60.5+ MB\n",
      "<class 'pandas.core.frame.DataFrame'>\n",
      "RangeIndex: 858 entries, 0 to 857\n",
      "Data columns (total 8 columns):\n",
      " #   Column        Non-Null Count  Dtype  \n",
      "---  ------        --------------  -----  \n",
      " 0   TYPE          858 non-null    object \n",
      " 1   NAME          858 non-null    object \n",
      " 2   ELEVATION_FT  855 non-null    float64\n",
      " 3   CONTINENT     0 non-null      object \n",
      " 4   ISO_COUNTRY   858 non-null    object \n",
      " 5   MUNICIPALITY  855 non-null    object \n",
      " 6   IATA_CODE     821 non-null    object \n",
      " 7   COORDINATES   858 non-null    object \n",
      "dtypes: float64(1), object(7)\n",
      "memory usage: 53.8+ KB\n"
     ]
    }
   ],
   "source": [
    "flights.info()\n",
    "tickets.info()\n",
    "airport_codes.info()"
   ]
  },
  {
   "cell_type": "markdown",
   "id": "8a5818eb-f7db-4a3c-b24f-ef6438ef6b02",
   "metadata": {
    "tags": []
   },
   "source": [
    "### 2.2 Remove Duplicates"
   ]
  },
  {
   "cell_type": "code",
   "execution_count": 106,
   "id": "bace3a7c-0d75-47ff-bb1f-3a8577dcbb10",
   "metadata": {},
   "outputs": [
    {
     "name": "stdout",
     "output_type": "stream",
     "text": [
      "flights duplicates removed: 4410\n",
      "tickets duplicates removed: 47564\n",
      "airport_codes duplicates removed: 0\n"
     ]
    }
   ],
   "source": [
    "# Check duplicated observation #\n",
    "print(\"flights duplicates removed:\", flights.shape[0] - flights.drop_duplicates().shape[0])\n",
    "print(\"tickets duplicates removed:\", tickets.shape[0] - tickets.drop_duplicates().shape[0])\n",
    "print(\"airport_codes duplicates removed:\", airport_codes.shape[0] - airport_codes.drop_duplicates().shape[0])"
   ]
  },
  {
   "cell_type": "code",
   "execution_count": 107,
   "id": "c4b27368-0f09-4818-b5ce-5218dbd97eb1",
   "metadata": {},
   "outputs": [],
   "source": [
    "flights.drop_duplicates(inplace = True)\n",
    "tickets.drop_duplicates(inplace = True)\n",
    "airport_codes.drop_duplicates(inplace = True)"
   ]
  },
  {
   "cell_type": "markdown",
   "id": "3792af92-68ba-468b-950e-2a00cf1820ab",
   "metadata": {
    "tags": []
   },
   "source": [
    "### 2.3 Abnormal Value Check & Processing"
   ]
  },
  {
   "cell_type": "markdown",
   "id": "58d0f1d3-5824-417c-af6b-1eee7e5e8ff7",
   "metadata": {
    "tags": []
   },
   "source": [
    "#### *Flights: Distance*"
   ]
  },
  {
   "cell_type": "code",
   "execution_count": 108,
   "id": "3f1e8632-1ab6-47c5-8e8b-f85f1b5f05e6",
   "metadata": {
    "tags": []
   },
   "outputs": [
    {
     "data": {
      "text/plain": [
       "****       203\n",
       "-198        15\n",
       "-1947        7\n",
       "NAN          2\n",
       "Hundred      1\n",
       "Twenty       1\n",
       "Name: DISTANCE, dtype: int64"
      ]
     },
     "execution_count": 108,
     "metadata": {},
     "output_type": "execute_result"
    }
   ],
   "source": [
    "# Check abnormal values\n",
    "flights[\"DISTANCE_check\"] = flights[\"DISTANCE\"].map(lambda x: utils.check_str_punc(str(x)))\n",
    "flights[flights[\"DISTANCE_check\"] == True][\"DISTANCE\"].value_counts()"
   ]
  },
  {
   "cell_type": "code",
   "execution_count": 109,
   "id": "5c6357df-afff-4535-9d52-a62e2022efbd",
   "metadata": {
    "tags": []
   },
   "outputs": [
    {
     "data": {
      "application/javascript": [
       "\n",
       "        if (window._pyforest_update_imports_cell) { window._pyforest_update_imports_cell('import numpy as np\\nimport pandas as pd'); }\n",
       "    "
      ],
      "text/plain": [
       "<IPython.core.display.Javascript object>"
      ]
     },
     "metadata": {},
     "output_type": "display_data"
    },
    {
     "data": {
      "application/javascript": [
       "\n",
       "        if (window._pyforest_update_imports_cell) { window._pyforest_update_imports_cell('import numpy as np\\nimport pandas as pd'); }\n",
       "    "
      ],
      "text/plain": [
       "<IPython.core.display.Javascript object>"
      ]
     },
     "metadata": {},
     "output_type": "display_data"
    },
    {
     "data": {
      "application/javascript": [
       "\n",
       "        if (window._pyforest_update_imports_cell) { window._pyforest_update_imports_cell('import numpy as np\\nimport pandas as pd'); }\n",
       "    "
      ],
      "text/plain": [
       "<IPython.core.display.Javascript object>"
      ]
     },
     "metadata": {},
     "output_type": "display_data"
    },
    {
     "data": {
      "application/javascript": [
       "\n",
       "        if (window._pyforest_update_imports_cell) { window._pyforest_update_imports_cell('import numpy as np\\nimport pandas as pd'); }\n",
       "    "
      ],
      "text/plain": [
       "<IPython.core.display.Javascript object>"
      ]
     },
     "metadata": {},
     "output_type": "display_data"
    }
   ],
   "source": [
    "# Process abnormal values\n",
    "flights[\"DISTANCE\"] = flights[\"DISTANCE\"].replace({\"****\": np.nan,\n",
    "                                                   \"NAN\": np.nan,\n",
    "                                                   \"-198\": np.nan,\n",
    "                                                   \"-1947\": np.nan,\n",
    "                                                   \"Hundred\": 100,\n",
    "                                                   \"Twenty\": 20})\n",
    "# flights[\"DISTANCE\"] = np.where(flights[\"DISTANCE_check\"] == True, np.nan, flights[\"DISTANCE\"])\n",
    "\n",
    "flights[\"DISTANCE\"] = flights[\"DISTANCE\"].astype(float)\n",
    "flights.drop(\"DISTANCE_check\", axis = 1, inplace = True)"
   ]
  },
  {
   "cell_type": "markdown",
   "id": "2ee9c2fe-4486-4bfd-8a9e-1acf8b27f099",
   "metadata": {
    "tags": []
   },
   "source": [
    "#### *Flights: AIR_TIME*"
   ]
  },
  {
   "cell_type": "code",
   "execution_count": 110,
   "id": "3c1eb634-7207-4c06-8148-56c318c32c0c",
   "metadata": {},
   "outputs": [
    {
     "data": {
      "text/plain": [
       "$$$     181\n",
       "-121     10\n",
       "Two       1\n",
       "NAN       1\n",
       "Name: AIR_TIME, dtype: int64"
      ]
     },
     "execution_count": 110,
     "metadata": {},
     "output_type": "execute_result"
    }
   ],
   "source": [
    "# Check abnormal values\n",
    "flights[\"AIR_TIME_check\"] = flights[\"AIR_TIME\"].map(lambda x: utils.check_str_punc(str(x)))\n",
    "flights[flights[\"AIR_TIME_check\"] == True][\"AIR_TIME\"].value_counts()"
   ]
  },
  {
   "cell_type": "code",
   "execution_count": 111,
   "id": "5c6f9459-8dda-4efa-ad22-ed4156344de9",
   "metadata": {},
   "outputs": [
    {
     "data": {
      "application/javascript": [
       "\n",
       "        if (window._pyforest_update_imports_cell) { window._pyforest_update_imports_cell('import numpy as np\\nimport pandas as pd'); }\n",
       "    "
      ],
      "text/plain": [
       "<IPython.core.display.Javascript object>"
      ]
     },
     "metadata": {},
     "output_type": "display_data"
    },
    {
     "data": {
      "application/javascript": [
       "\n",
       "        if (window._pyforest_update_imports_cell) { window._pyforest_update_imports_cell('import numpy as np\\nimport pandas as pd'); }\n",
       "    "
      ],
      "text/plain": [
       "<IPython.core.display.Javascript object>"
      ]
     },
     "metadata": {},
     "output_type": "display_data"
    }
   ],
   "source": [
    "# Process abnormal values\n",
    "# flights[\"AIR_TIME\"] = flights[\"AIR_TIME\"].replace({\"$$$\": np.nan,\n",
    "#                                                    \"NAN\": np.nan,\n",
    "#                                                    \"-121\": np.nan,\n",
    "#                                                    \"Two\": np.nan})\n",
    "flights[\"AIR_TIME\"] = np.where(flights[\"AIR_TIME_check\"] == True, np.nan, flights[\"AIR_TIME\"])\n",
    "\n",
    "flights[\"AIR_TIME\"] = flights[\"AIR_TIME\"].astype(float)\n",
    "flights.drop(\"AIR_TIME_check\", axis = 1, inplace = True)"
   ]
  },
  {
   "cell_type": "markdown",
   "id": "91d61796-2b16-4c2a-8403-7a677dbb0c8a",
   "metadata": {
    "tags": []
   },
   "source": [
    "#### *Tickets: ITIN_FARE*"
   ]
  },
  {
   "cell_type": "code",
   "execution_count": 112,
   "id": "384b9cf5-6dea-48fd-9997-acf8fa357471",
   "metadata": {},
   "outputs": [
    {
     "data": {
      "text/plain": [
       "200 $       677\n",
       "$ 100.00    273\n",
       "820$$$      256\n",
       "Name: ITIN_FARE, dtype: int64"
      ]
     },
     "execution_count": 112,
     "metadata": {},
     "output_type": "execute_result"
    }
   ],
   "source": [
    "tickets[\"ITIN_FARE_check\"] = tickets[\"ITIN_FARE\"].map(lambda x: utils.check_str_punc(str(x)))\n",
    "tickets[tickets[\"ITIN_FARE_check\"] == True][\"ITIN_FARE\"].value_counts()"
   ]
  },
  {
   "cell_type": "code",
   "execution_count": 113,
   "id": "beaee39f-e569-42fb-bd52-3512a41db7f6",
   "metadata": {},
   "outputs": [],
   "source": [
    "# Process abnormal values\n",
    "tickets[\"ITIN_FARE\"] = tickets[\"ITIN_FARE\"].replace({\"$ 100.00\": 100,\n",
    "                                                     \"200 $\": 200,\n",
    "                                                     \"820$$$\": 820})\n",
    "\n",
    "tickets[\"ITIN_FARE\"] = tickets[\"ITIN_FARE\"].astype(float)\n",
    "tickets.drop(\"ITIN_FARE_check\", axis = 1, inplace = True)"
   ]
  },
  {
   "cell_type": "markdown",
   "id": "92105fe6-f2d8-4586-8696-9105a2d91647",
   "metadata": {
    "tags": []
   },
   "source": [
    "### 2.4 Data Type Correction"
   ]
  },
  {
   "cell_type": "code",
   "execution_count": 117,
   "id": "fc5a7ac8-f91d-4d78-9249-6c9cffff8c94",
   "metadata": {},
   "outputs": [],
   "source": [
    "flights_cate_cols = [\"ORIGIN_AIRPORT_ID\", \"DEST_AIRPORT_ID\", \"CANCELLED\"]\n",
    "tickets_cate_cols = [\"ITIN_ID\", \"YEAR\", \"QUARTER\", \"ROUNDTRIP\"]\n",
    "\n",
    "# Convert to categorical \n",
    "for col in flights_cate_cols:\n",
    "    flights[col] = flights[col].astype(object)\n",
    "\n",
    "for col in tickets_cate_cols:\n",
    "    tickets[col] = tickets[col].astype(object)\n",
    "\n",
    "# Convert to datetime\n",
    "flights[\"FL_DATE\"] = pd.to_datetime(flights[\"FL_DATE\"])"
   ]
  },
  {
   "cell_type": "markdown",
   "id": "276ea545-7c44-486d-b5de-6197716f7dcd",
   "metadata": {
    "tags": []
   },
   "source": [
    "### 2.5 Missing Value Inspection"
   ]
  },
  {
   "cell_type": "code",
   "execution_count": 118,
   "id": "6984ee93-718b-49e9-a519-0af166176201",
   "metadata": {
    "collapsed": true,
    "jupyter": {
     "outputs_hidden": true
    },
    "tags": []
   },
   "outputs": [
    {
     "data": {
      "text/html": [
       "<div>\n",
       "<style scoped>\n",
       "    .dataframe tbody tr th:only-of-type {\n",
       "        vertical-align: middle;\n",
       "    }\n",
       "\n",
       "    .dataframe tbody tr th {\n",
       "        vertical-align: top;\n",
       "    }\n",
       "\n",
       "    .dataframe thead th {\n",
       "        text-align: right;\n",
       "    }\n",
       "</style>\n",
       "<table border=\"1\" class=\"dataframe\">\n",
       "  <thead>\n",
       "    <tr style=\"text-align: right;\">\n",
       "      <th></th>\n",
       "      <th>Attribute</th>\n",
       "      <th>Missing#</th>\n",
       "      <th>Missing%</th>\n",
       "    </tr>\n",
       "  </thead>\n",
       "  <tbody>\n",
       "    <tr>\n",
       "      <th>0</th>\n",
       "      <td>AIR_TIME</td>\n",
       "      <td>4626</td>\n",
       "      <td>0.25</td>\n",
       "    </tr>\n",
       "    <tr>\n",
       "      <th>1</th>\n",
       "      <td>ARR_DELAY</td>\n",
       "      <td>4368</td>\n",
       "      <td>0.23</td>\n",
       "    </tr>\n",
       "    <tr>\n",
       "      <th>2</th>\n",
       "      <td>DISTANCE</td>\n",
       "      <td>288</td>\n",
       "      <td>0.02</td>\n",
       "    </tr>\n",
       "    <tr>\n",
       "      <th>3</th>\n",
       "      <td>OCCUPANCY_RATE</td>\n",
       "      <td>31</td>\n",
       "      <td>0.00</td>\n",
       "    </tr>\n",
       "    <tr>\n",
       "      <th>4</th>\n",
       "      <td>FL_DATE</td>\n",
       "      <td>0</td>\n",
       "      <td>0.00</td>\n",
       "    </tr>\n",
       "    <tr>\n",
       "      <th>5</th>\n",
       "      <td>OP_CARRIER</td>\n",
       "      <td>0</td>\n",
       "      <td>0.00</td>\n",
       "    </tr>\n",
       "    <tr>\n",
       "      <th>6</th>\n",
       "      <td>TAIL_NUM</td>\n",
       "      <td>0</td>\n",
       "      <td>0.00</td>\n",
       "    </tr>\n",
       "    <tr>\n",
       "      <th>7</th>\n",
       "      <td>OP_CARRIER_FL_NUM</td>\n",
       "      <td>0</td>\n",
       "      <td>0.00</td>\n",
       "    </tr>\n",
       "    <tr>\n",
       "      <th>8</th>\n",
       "      <td>ORIGIN_AIRPORT_ID</td>\n",
       "      <td>0</td>\n",
       "      <td>0.00</td>\n",
       "    </tr>\n",
       "    <tr>\n",
       "      <th>9</th>\n",
       "      <td>ORIGIN</td>\n",
       "      <td>0</td>\n",
       "      <td>0.00</td>\n",
       "    </tr>\n",
       "    <tr>\n",
       "      <th>10</th>\n",
       "      <td>ORIGIN_CITY_NAME</td>\n",
       "      <td>0</td>\n",
       "      <td>0.00</td>\n",
       "    </tr>\n",
       "    <tr>\n",
       "      <th>11</th>\n",
       "      <td>DEST_AIRPORT_ID</td>\n",
       "      <td>0</td>\n",
       "      <td>0.00</td>\n",
       "    </tr>\n",
       "    <tr>\n",
       "      <th>12</th>\n",
       "      <td>DESTINATION</td>\n",
       "      <td>0</td>\n",
       "      <td>0.00</td>\n",
       "    </tr>\n",
       "    <tr>\n",
       "      <th>13</th>\n",
       "      <td>DEST_CITY_NAME</td>\n",
       "      <td>0</td>\n",
       "      <td>0.00</td>\n",
       "    </tr>\n",
       "    <tr>\n",
       "      <th>14</th>\n",
       "      <td>DEP_DELAY</td>\n",
       "      <td>0</td>\n",
       "      <td>0.00</td>\n",
       "    </tr>\n",
       "    <tr>\n",
       "      <th>15</th>\n",
       "      <td>CANCELLED</td>\n",
       "      <td>0</td>\n",
       "      <td>0.00</td>\n",
       "    </tr>\n",
       "  </tbody>\n",
       "</table>\n",
       "</div>"
      ],
      "text/plain": [
       "            Attribute  Missing#  Missing%\n",
       "0            AIR_TIME      4626      0.25\n",
       "1           ARR_DELAY      4368      0.23\n",
       "2            DISTANCE       288      0.02\n",
       "3      OCCUPANCY_RATE        31      0.00\n",
       "4             FL_DATE         0      0.00\n",
       "5          OP_CARRIER         0      0.00\n",
       "6            TAIL_NUM         0      0.00\n",
       "7   OP_CARRIER_FL_NUM         0      0.00\n",
       "8   ORIGIN_AIRPORT_ID         0      0.00\n",
       "9              ORIGIN         0      0.00\n",
       "10   ORIGIN_CITY_NAME         0      0.00\n",
       "11    DEST_AIRPORT_ID         0      0.00\n",
       "12        DESTINATION         0      0.00\n",
       "13     DEST_CITY_NAME         0      0.00\n",
       "14          DEP_DELAY         0      0.00\n",
       "15          CANCELLED         0      0.00"
      ]
     },
     "execution_count": 118,
     "metadata": {},
     "output_type": "execute_result"
    }
   ],
   "source": [
    "check_data.check_missing_values(flights)"
   ]
  },
  {
   "cell_type": "code",
   "execution_count": 119,
   "id": "9656e5ed-5470-4ee5-9af5-a2a0d42fe271",
   "metadata": {
    "collapsed": true,
    "jupyter": {
     "outputs_hidden": true
    },
    "tags": []
   },
   "outputs": [
    {
     "data": {
      "text/html": [
       "<div>\n",
       "<style scoped>\n",
       "    .dataframe tbody tr th:only-of-type {\n",
       "        vertical-align: middle;\n",
       "    }\n",
       "\n",
       "    .dataframe tbody tr th {\n",
       "        vertical-align: top;\n",
       "    }\n",
       "\n",
       "    .dataframe thead th {\n",
       "        text-align: right;\n",
       "    }\n",
       "</style>\n",
       "<table border=\"1\" class=\"dataframe\">\n",
       "  <thead>\n",
       "    <tr style=\"text-align: right;\">\n",
       "      <th></th>\n",
       "      <th>Attribute</th>\n",
       "      <th>Missing#</th>\n",
       "      <th>Missing%</th>\n",
       "    </tr>\n",
       "  </thead>\n",
       "  <tbody>\n",
       "    <tr>\n",
       "      <th>0</th>\n",
       "      <td>PASSENGERS</td>\n",
       "      <td>960</td>\n",
       "      <td>0.15</td>\n",
       "    </tr>\n",
       "    <tr>\n",
       "      <th>1</th>\n",
       "      <td>ITIN_FARE</td>\n",
       "      <td>451</td>\n",
       "      <td>0.07</td>\n",
       "    </tr>\n",
       "    <tr>\n",
       "      <th>2</th>\n",
       "      <td>ITIN_ID</td>\n",
       "      <td>0</td>\n",
       "      <td>0.00</td>\n",
       "    </tr>\n",
       "    <tr>\n",
       "      <th>3</th>\n",
       "      <td>YEAR</td>\n",
       "      <td>0</td>\n",
       "      <td>0.00</td>\n",
       "    </tr>\n",
       "    <tr>\n",
       "      <th>4</th>\n",
       "      <td>QUARTER</td>\n",
       "      <td>0</td>\n",
       "      <td>0.00</td>\n",
       "    </tr>\n",
       "    <tr>\n",
       "      <th>5</th>\n",
       "      <td>ORIGIN</td>\n",
       "      <td>0</td>\n",
       "      <td>0.00</td>\n",
       "    </tr>\n",
       "    <tr>\n",
       "      <th>6</th>\n",
       "      <td>ORIGIN_COUNTRY</td>\n",
       "      <td>0</td>\n",
       "      <td>0.00</td>\n",
       "    </tr>\n",
       "    <tr>\n",
       "      <th>7</th>\n",
       "      <td>ORIGIN_STATE_ABR</td>\n",
       "      <td>0</td>\n",
       "      <td>0.00</td>\n",
       "    </tr>\n",
       "    <tr>\n",
       "      <th>8</th>\n",
       "      <td>ORIGIN_STATE_NM</td>\n",
       "      <td>0</td>\n",
       "      <td>0.00</td>\n",
       "    </tr>\n",
       "    <tr>\n",
       "      <th>9</th>\n",
       "      <td>ROUNDTRIP</td>\n",
       "      <td>0</td>\n",
       "      <td>0.00</td>\n",
       "    </tr>\n",
       "    <tr>\n",
       "      <th>10</th>\n",
       "      <td>REPORTING_CARRIER</td>\n",
       "      <td>0</td>\n",
       "      <td>0.00</td>\n",
       "    </tr>\n",
       "    <tr>\n",
       "      <th>11</th>\n",
       "      <td>DESTINATION</td>\n",
       "      <td>0</td>\n",
       "      <td>0.00</td>\n",
       "    </tr>\n",
       "  </tbody>\n",
       "</table>\n",
       "</div>"
      ],
      "text/plain": [
       "            Attribute  Missing#  Missing%\n",
       "0          PASSENGERS       960      0.15\n",
       "1           ITIN_FARE       451      0.07\n",
       "2             ITIN_ID         0      0.00\n",
       "3                YEAR         0      0.00\n",
       "4             QUARTER         0      0.00\n",
       "5              ORIGIN         0      0.00\n",
       "6      ORIGIN_COUNTRY         0      0.00\n",
       "7    ORIGIN_STATE_ABR         0      0.00\n",
       "8     ORIGIN_STATE_NM         0      0.00\n",
       "9           ROUNDTRIP         0      0.00\n",
       "10  REPORTING_CARRIER         0      0.00\n",
       "11        DESTINATION         0      0.00"
      ]
     },
     "execution_count": 119,
     "metadata": {},
     "output_type": "execute_result"
    }
   ],
   "source": [
    "check_data.check_missing_values(tickets)"
   ]
  },
  {
   "cell_type": "markdown",
   "id": "de59e1bb-64a4-417b-93d3-55fb581de8e3",
   "metadata": {
    "tags": []
   },
   "source": [
    "### 2.6 Outliers"
   ]
  },
  {
   "cell_type": "code",
   "execution_count": null,
   "id": "caef2225-3046-4e7d-9fe7-119bca4f7e78",
   "metadata": {
    "tags": []
   },
   "outputs": [],
   "source": [
    "airport_codes.describe()\n",
    "flights.describe()\n",
    "tickets.describe()"
   ]
  },
  {
   "cell_type": "markdown",
   "id": "d825e841-cf9f-4a8d-b15c-cdc57d37eea5",
   "metadata": {
    "tags": []
   },
   "source": [
    "### 2.7 Skewness & Kurtosis"
   ]
  },
  {
   "cell_type": "code",
   "execution_count": 120,
   "id": "d016eadc-5c34-43a7-9d71-a0c9d811c4fd",
   "metadata": {
    "collapsed": true,
    "jupyter": {
     "outputs_hidden": true
    },
    "tags": []
   },
   "outputs": [
    {
     "data": {
      "text/html": [
       "<div>\n",
       "<style scoped>\n",
       "    .dataframe tbody tr th:only-of-type {\n",
       "        vertical-align: middle;\n",
       "    }\n",
       "\n",
       "    .dataframe tbody tr th {\n",
       "        vertical-align: top;\n",
       "    }\n",
       "\n",
       "    .dataframe thead th {\n",
       "        text-align: right;\n",
       "    }\n",
       "</style>\n",
       "<table border=\"1\" class=\"dataframe\">\n",
       "  <thead>\n",
       "    <tr style=\"text-align: right;\">\n",
       "      <th></th>\n",
       "      <th>Attribute</th>\n",
       "      <th>Skweness</th>\n",
       "      <th>Kurtosis</th>\n",
       "    </tr>\n",
       "  </thead>\n",
       "  <tbody>\n",
       "    <tr>\n",
       "      <th>0</th>\n",
       "      <td>DEP_DELAY</td>\n",
       "      <td>10.08</td>\n",
       "      <td>180.19</td>\n",
       "    </tr>\n",
       "    <tr>\n",
       "      <th>1</th>\n",
       "      <td>ARR_DELAY</td>\n",
       "      <td>9.00</td>\n",
       "      <td>153.13</td>\n",
       "    </tr>\n",
       "    <tr>\n",
       "      <th>2</th>\n",
       "      <td>AIR_TIME</td>\n",
       "      <td>1.55</td>\n",
       "      <td>3.45</td>\n",
       "    </tr>\n",
       "    <tr>\n",
       "      <th>3</th>\n",
       "      <td>DISTANCE</td>\n",
       "      <td>1.54</td>\n",
       "      <td>2.94</td>\n",
       "    </tr>\n",
       "    <tr>\n",
       "      <th>4</th>\n",
       "      <td>OCCUPANCY_RATE</td>\n",
       "      <td>-0.00</td>\n",
       "      <td>-1.20</td>\n",
       "    </tr>\n",
       "  </tbody>\n",
       "</table>\n",
       "</div>"
      ],
      "text/plain": [
       "        Attribute  Skweness  Kurtosis\n",
       "0       DEP_DELAY     10.08    180.19\n",
       "1       ARR_DELAY      9.00    153.13\n",
       "2        AIR_TIME      1.55      3.45\n",
       "3        DISTANCE      1.54      2.94\n",
       "4  OCCUPANCY_RATE     -0.00     -1.20"
      ]
     },
     "execution_count": 120,
     "metadata": {},
     "output_type": "execute_result"
    }
   ],
   "source": [
    "check_data.check_skweness_kurtosis(flights)"
   ]
  },
  {
   "cell_type": "code",
   "execution_count": 121,
   "id": "0270b4db-f404-4324-b896-050fd4dcf75a",
   "metadata": {
    "collapsed": true,
    "jupyter": {
     "outputs_hidden": true
    },
    "tags": []
   },
   "outputs": [
    {
     "data": {
      "text/html": [
       "<div>\n",
       "<style scoped>\n",
       "    .dataframe tbody tr th:only-of-type {\n",
       "        vertical-align: middle;\n",
       "    }\n",
       "\n",
       "    .dataframe tbody tr th {\n",
       "        vertical-align: top;\n",
       "    }\n",
       "\n",
       "    .dataframe thead th {\n",
       "        text-align: right;\n",
       "    }\n",
       "</style>\n",
       "<table border=\"1\" class=\"dataframe\">\n",
       "  <thead>\n",
       "    <tr style=\"text-align: right;\">\n",
       "      <th></th>\n",
       "      <th>Attribute</th>\n",
       "      <th>Skweness</th>\n",
       "      <th>Kurtosis</th>\n",
       "    </tr>\n",
       "  </thead>\n",
       "  <tbody>\n",
       "    <tr>\n",
       "      <th>0</th>\n",
       "      <td>PASSENGERS</td>\n",
       "      <td>29.85</td>\n",
       "      <td>1900.61</td>\n",
       "    </tr>\n",
       "    <tr>\n",
       "      <th>1</th>\n",
       "      <td>ITIN_FARE</td>\n",
       "      <td>5.72</td>\n",
       "      <td>271.38</td>\n",
       "    </tr>\n",
       "  </tbody>\n",
       "</table>\n",
       "</div>"
      ],
      "text/plain": [
       "    Attribute  Skweness  Kurtosis\n",
       "0  PASSENGERS     29.85   1900.61\n",
       "1   ITIN_FARE      5.72    271.38"
      ]
     },
     "execution_count": 121,
     "metadata": {},
     "output_type": "execute_result"
    }
   ],
   "source": [
    "check_data.check_skweness_kurtosis(tickets)"
   ]
  },
  {
   "cell_type": "markdown",
   "id": "56406b45-c7f1-429e-917e-b3845a82477b",
   "metadata": {
    "tags": []
   },
   "source": [
    "### 2.8 Correlation Analysis"
   ]
  },
  {
   "cell_type": "code",
   "execution_count": null,
   "id": "6198210c-dafb-4aa6-bd92-6074933074f3",
   "metadata": {
    "tags": []
   },
   "outputs": [],
   "source": [
    "# check_data.check_correlation(flights, plot = True)"
   ]
  },
  {
   "cell_type": "markdown",
   "id": "3d94db43-47ea-4dbb-b6bc-6a97c2e5c923",
   "metadata": {
    "tags": []
   },
   "source": [
    "## **3.Data Munging**"
   ]
  },
  {
   "cell_type": "code",
   "execution_count": 176,
   "id": "0917e59d-0ba1-4fa3-aafc-68f021b3bc65",
   "metadata": {},
   "outputs": [
    {
     "data": {
      "application/javascript": [
       "\n",
       "        if (window._pyforest_update_imports_cell) { window._pyforest_update_imports_cell('import numpy as np\\nimport pandas as pd'); }\n",
       "    "
      ],
      "text/plain": [
       "<IPython.core.display.Javascript object>"
      ]
     },
     "metadata": {},
     "output_type": "display_data"
    },
    {
     "data": {
      "application/javascript": [
       "\n",
       "        if (window._pyforest_update_imports_cell) { window._pyforest_update_imports_cell('import numpy as np\\nimport pandas as pd'); }\n",
       "    "
      ],
      "text/plain": [
       "<IPython.core.display.Javascript object>"
      ]
     },
     "metadata": {},
     "output_type": "display_data"
    },
    {
     "data": {
      "application/javascript": [
       "\n",
       "        if (window._pyforest_update_imports_cell) { window._pyforest_update_imports_cell('import numpy as np\\nimport pandas as pd'); }\n",
       "    "
      ],
      "text/plain": [
       "<IPython.core.display.Javascript object>"
      ]
     },
     "metadata": {},
     "output_type": "display_data"
    },
    {
     "data": {
      "application/javascript": [
       "\n",
       "        if (window._pyforest_update_imports_cell) { window._pyforest_update_imports_cell('import numpy as np\\nimport pandas as pd'); }\n",
       "    "
      ],
      "text/plain": [
       "<IPython.core.display.Javascript object>"
      ]
     },
     "metadata": {},
     "output_type": "display_data"
    },
    {
     "data": {
      "application/javascript": [
       "\n",
       "        if (window._pyforest_update_imports_cell) { window._pyforest_update_imports_cell('import numpy as np\\nimport pandas as pd'); }\n",
       "    "
      ],
      "text/plain": [
       "<IPython.core.display.Javascript object>"
      ]
     },
     "metadata": {},
     "output_type": "display_data"
    },
    {
     "data": {
      "application/javascript": [
       "\n",
       "        if (window._pyforest_update_imports_cell) { window._pyforest_update_imports_cell('import numpy as np\\nimport pandas as pd'); }\n",
       "    "
      ],
      "text/plain": [
       "<IPython.core.display.Javascript object>"
      ]
     },
     "metadata": {},
     "output_type": "display_data"
    },
    {
     "data": {
      "application/javascript": [
       "\n",
       "        if (window._pyforest_update_imports_cell) { window._pyforest_update_imports_cell('import numpy as np\\nimport pandas as pd'); }\n",
       "    "
      ],
      "text/plain": [
       "<IPython.core.display.Javascript object>"
      ]
     },
     "metadata": {},
     "output_type": "display_data"
    }
   ],
   "source": [
    "tickets_group = tickets.groupby([\"ORIGIN\",\"DESTINATION\"]).agg({\"ORIGIN_STATE_NM\":\"first\",\n",
    "                                                               \"PASSENGERS\": np.sum,\n",
    "                                                               \"ITIN_FARE\": np.sum}).reset_index()\n",
    "\n",
    "flights_group = flights.groupby([\"ORIGIN\",\"DESTINATION\"]).agg({\"ORIGIN_CITY_NAME\":\"first\",\n",
    "                                                               \"DEST_CITY_NAME\": \"first\",\n",
    "                                                               \"DEP_DELAY\": np.sum,\n",
    "                                                               \"ARR_DELAY\": np.sum,\n",
    "                                                               \"AIR_TIME\": np.sum,\n",
    "                                                               \"DISTANCE\": np.sum,\n",
    "                                                               \"OCCUPANCY_RATE\":np.mean,\n",
    "                                                               \"FL_DATE\":\"count\"}).reset_index()\n",
    "airport_codes = airport_codes[[\"TYPE\", \"IATA_CODE\"]]"
   ]
  },
  {
   "cell_type": "code",
   "execution_count": 185,
   "id": "ac699659-7f11-4ab0-87eb-f699e9064164",
   "metadata": {},
   "outputs": [],
   "source": [
    "data = tickets_group.merge(flights_group, on=['ORIGIN','DESTINATION']).\\\n",
    "                     merge(airport_codes.add_prefix(\"ORIGIN_\"), left_on = \"ORIGIN\", right_on = \"ORIGIN_IATA_CODE\", how = \"left\").\\\n",
    "                     merge(airport_codes.add_prefix(\"DEST_\"), left_on = \"DESTINATION\", right_on = \"DEST_IATA_CODE\", how = \"left\").rename(columns = {\"FL_DATE\": \"TRIP_FREQ\"})\n",
    "\n",
    "data.drop([col for col in data.columns if \"IATA_CODE\" in col], axis = 1, inplace = True)\n",
    "data[\"ROUTE\"] = data[\"ORIGIN\"] + \"-\" + data[\"DESTINATION\"]\n",
    "\n",
    "airport_type_map_dict = {\"medium_airport\": \"M\", \"large_airport\": \"L\"}\n",
    "data[\"ORIGIN_TYPE\"] = data[\"ORIGIN_TYPE\"].replace(airport_type_map_dict)\n",
    "data[\"DEST_TYPE\"] = data[\"DEST_TYPE\"].replace(airport_type_map_dict)"
   ]
  },
  {
   "cell_type": "markdown",
   "id": "6777dfdd-d5e1-4ab9-aa2e-587b8b72876e",
   "metadata": {
    "tags": []
   },
   "source": [
    "## **4.Data Analysis**"
   ]
  },
  {
   "cell_type": "markdown",
   "id": "6851dbba-83c2-42a0-9dbb-12607e1c3e06",
   "metadata": {},
   "source": [
    "#### 🎯 **The `10 busiest round trip routes` in terms of number of round trip flights in the quarter. Exclude canceled flights when performing the calculation.**"
   ]
  },
  {
   "cell_type": "code",
   "execution_count": 188,
   "id": "23cf3978-40b2-4492-9321-63621dfc164a",
   "metadata": {},
   "outputs": [],
   "source": [
    "top_10_trip_freq = data.sort_values(by = \"TRIP_FREQ\", ascending = False)[[\"ROUTE\", \"TRIP_FREQ\"]].iloc[0:11, :].reset_index(drop = True)"
   ]
  },
  {
   "cell_type": "code",
   "execution_count": 216,
   "id": "8dc448a6-ade0-4e67-8119-bf7add1d73f5",
   "metadata": {},
   "outputs": [
    {
     "data": {
      "application/javascript": [
       "\n",
       "        if (window._pyforest_update_imports_cell) { window._pyforest_update_imports_cell('import numpy as np\\nimport pandas as pd\\nimport matplotlib.pyplot as plt\\nimport seaborn as sns'); }\n",
       "    "
      ],
      "text/plain": [
       "<IPython.core.display.Javascript object>"
      ]
     },
     "metadata": {},
     "output_type": "display_data"
    },
    {
     "data": {
      "application/vnd.plotly.v1+json": {
       "config": {
        "plotlyServerURL": "https://plot.ly"
       },
       "data": [
        {
         "alignmentgroup": "True",
         "hovertemplate": "<b>%{hovertext}</b><br><br>Flight Trip Route=%{x}<br>Number of Round Trip Flights=%{y}<extra></extra>",
         "hovertext": [
          "SFO-LAX",
          "LAX-SFO",
          "ORD-LGA",
          "LGA-ORD",
          "LAX-LAS",
          "LAS-LAX",
          "LAX-JFK",
          "JFK-LAX",
          "LAX-SEA",
          "SEA-LAX",
          "LGA-BOS"
         ],
         "legendgroup": "",
         "marker": {
          "color": "#3366CC",
          "pattern": {
           "shape": ""
          }
         },
         "name": "",
         "offsetgroup": "",
         "orientation": "v",
         "showlegend": false,
         "textposition": "auto",
         "type": "bar",
         "x": [
          "SFO-LAX",
          "LAX-SFO",
          "ORD-LGA",
          "LGA-ORD",
          "LAX-LAS",
          "LAS-LAX",
          "LAX-JFK",
          "JFK-LAX",
          "LAX-SEA",
          "SEA-LAX",
          "LGA-BOS"
         ],
         "xaxis": "x",
         "y": [
          4176,
          4164,
          3580,
          3576,
          3257,
          3254,
          3162,
          3158,
          2502,
          2497,
          2415
         ],
         "yaxis": "y"
        }
       ],
       "layout": {
        "autosize": true,
        "barmode": "relative",
        "dragmode": "zoom",
        "legend": {
         "tracegroupgap": 0
        },
        "template": {
         "data": {
          "bar": [
           {
            "error_x": {
             "color": "#2a3f5f"
            },
            "error_y": {
             "color": "#2a3f5f"
            },
            "marker": {
             "line": {
              "color": "#E5ECF6",
              "width": 0.5
             },
             "pattern": {
              "fillmode": "overlay",
              "size": 10,
              "solidity": 0.2
             }
            },
            "type": "bar"
           }
          ],
          "barpolar": [
           {
            "marker": {
             "line": {
              "color": "#E5ECF6",
              "width": 0.5
             },
             "pattern": {
              "fillmode": "overlay",
              "size": 10,
              "solidity": 0.2
             }
            },
            "type": "barpolar"
           }
          ],
          "carpet": [
           {
            "aaxis": {
             "endlinecolor": "#2a3f5f",
             "gridcolor": "white",
             "linecolor": "white",
             "minorgridcolor": "white",
             "startlinecolor": "#2a3f5f"
            },
            "baxis": {
             "endlinecolor": "#2a3f5f",
             "gridcolor": "white",
             "linecolor": "white",
             "minorgridcolor": "white",
             "startlinecolor": "#2a3f5f"
            },
            "type": "carpet"
           }
          ],
          "choropleth": [
           {
            "colorbar": {
             "outlinewidth": 0,
             "ticks": ""
            },
            "type": "choropleth"
           }
          ],
          "contour": [
           {
            "colorbar": {
             "outlinewidth": 0,
             "ticks": ""
            },
            "colorscale": [
             [
              0,
              "#0d0887"
             ],
             [
              0.1111111111111111,
              "#46039f"
             ],
             [
              0.2222222222222222,
              "#7201a8"
             ],
             [
              0.3333333333333333,
              "#9c179e"
             ],
             [
              0.4444444444444444,
              "#bd3786"
             ],
             [
              0.5555555555555556,
              "#d8576b"
             ],
             [
              0.6666666666666666,
              "#ed7953"
             ],
             [
              0.7777777777777778,
              "#fb9f3a"
             ],
             [
              0.8888888888888888,
              "#fdca26"
             ],
             [
              1,
              "#f0f921"
             ]
            ],
            "type": "contour"
           }
          ],
          "contourcarpet": [
           {
            "colorbar": {
             "outlinewidth": 0,
             "ticks": ""
            },
            "type": "contourcarpet"
           }
          ],
          "heatmap": [
           {
            "colorbar": {
             "outlinewidth": 0,
             "ticks": ""
            },
            "colorscale": [
             [
              0,
              "#0d0887"
             ],
             [
              0.1111111111111111,
              "#46039f"
             ],
             [
              0.2222222222222222,
              "#7201a8"
             ],
             [
              0.3333333333333333,
              "#9c179e"
             ],
             [
              0.4444444444444444,
              "#bd3786"
             ],
             [
              0.5555555555555556,
              "#d8576b"
             ],
             [
              0.6666666666666666,
              "#ed7953"
             ],
             [
              0.7777777777777778,
              "#fb9f3a"
             ],
             [
              0.8888888888888888,
              "#fdca26"
             ],
             [
              1,
              "#f0f921"
             ]
            ],
            "type": "heatmap"
           }
          ],
          "heatmapgl": [
           {
            "colorbar": {
             "outlinewidth": 0,
             "ticks": ""
            },
            "colorscale": [
             [
              0,
              "#0d0887"
             ],
             [
              0.1111111111111111,
              "#46039f"
             ],
             [
              0.2222222222222222,
              "#7201a8"
             ],
             [
              0.3333333333333333,
              "#9c179e"
             ],
             [
              0.4444444444444444,
              "#bd3786"
             ],
             [
              0.5555555555555556,
              "#d8576b"
             ],
             [
              0.6666666666666666,
              "#ed7953"
             ],
             [
              0.7777777777777778,
              "#fb9f3a"
             ],
             [
              0.8888888888888888,
              "#fdca26"
             ],
             [
              1,
              "#f0f921"
             ]
            ],
            "type": "heatmapgl"
           }
          ],
          "histogram": [
           {
            "marker": {
             "pattern": {
              "fillmode": "overlay",
              "size": 10,
              "solidity": 0.2
             }
            },
            "type": "histogram"
           }
          ],
          "histogram2d": [
           {
            "colorbar": {
             "outlinewidth": 0,
             "ticks": ""
            },
            "colorscale": [
             [
              0,
              "#0d0887"
             ],
             [
              0.1111111111111111,
              "#46039f"
             ],
             [
              0.2222222222222222,
              "#7201a8"
             ],
             [
              0.3333333333333333,
              "#9c179e"
             ],
             [
              0.4444444444444444,
              "#bd3786"
             ],
             [
              0.5555555555555556,
              "#d8576b"
             ],
             [
              0.6666666666666666,
              "#ed7953"
             ],
             [
              0.7777777777777778,
              "#fb9f3a"
             ],
             [
              0.8888888888888888,
              "#fdca26"
             ],
             [
              1,
              "#f0f921"
             ]
            ],
            "type": "histogram2d"
           }
          ],
          "histogram2dcontour": [
           {
            "colorbar": {
             "outlinewidth": 0,
             "ticks": ""
            },
            "colorscale": [
             [
              0,
              "#0d0887"
             ],
             [
              0.1111111111111111,
              "#46039f"
             ],
             [
              0.2222222222222222,
              "#7201a8"
             ],
             [
              0.3333333333333333,
              "#9c179e"
             ],
             [
              0.4444444444444444,
              "#bd3786"
             ],
             [
              0.5555555555555556,
              "#d8576b"
             ],
             [
              0.6666666666666666,
              "#ed7953"
             ],
             [
              0.7777777777777778,
              "#fb9f3a"
             ],
             [
              0.8888888888888888,
              "#fdca26"
             ],
             [
              1,
              "#f0f921"
             ]
            ],
            "type": "histogram2dcontour"
           }
          ],
          "mesh3d": [
           {
            "colorbar": {
             "outlinewidth": 0,
             "ticks": ""
            },
            "type": "mesh3d"
           }
          ],
          "parcoords": [
           {
            "line": {
             "colorbar": {
              "outlinewidth": 0,
              "ticks": ""
             }
            },
            "type": "parcoords"
           }
          ],
          "pie": [
           {
            "automargin": true,
            "type": "pie"
           }
          ],
          "scatter": [
           {
            "fillpattern": {
             "fillmode": "overlay",
             "size": 10,
             "solidity": 0.2
            },
            "type": "scatter"
           }
          ],
          "scatter3d": [
           {
            "line": {
             "colorbar": {
              "outlinewidth": 0,
              "ticks": ""
             }
            },
            "marker": {
             "colorbar": {
              "outlinewidth": 0,
              "ticks": ""
             }
            },
            "type": "scatter3d"
           }
          ],
          "scattercarpet": [
           {
            "marker": {
             "colorbar": {
              "outlinewidth": 0,
              "ticks": ""
             }
            },
            "type": "scattercarpet"
           }
          ],
          "scattergeo": [
           {
            "marker": {
             "colorbar": {
              "outlinewidth": 0,
              "ticks": ""
             }
            },
            "type": "scattergeo"
           }
          ],
          "scattergl": [
           {
            "marker": {
             "colorbar": {
              "outlinewidth": 0,
              "ticks": ""
             }
            },
            "type": "scattergl"
           }
          ],
          "scattermapbox": [
           {
            "marker": {
             "colorbar": {
              "outlinewidth": 0,
              "ticks": ""
             }
            },
            "type": "scattermapbox"
           }
          ],
          "scatterpolar": [
           {
            "marker": {
             "colorbar": {
              "outlinewidth": 0,
              "ticks": ""
             }
            },
            "type": "scatterpolar"
           }
          ],
          "scatterpolargl": [
           {
            "marker": {
             "colorbar": {
              "outlinewidth": 0,
              "ticks": ""
             }
            },
            "type": "scatterpolargl"
           }
          ],
          "scatterternary": [
           {
            "marker": {
             "colorbar": {
              "outlinewidth": 0,
              "ticks": ""
             }
            },
            "type": "scatterternary"
           }
          ],
          "surface": [
           {
            "colorbar": {
             "outlinewidth": 0,
             "ticks": ""
            },
            "colorscale": [
             [
              0,
              "#0d0887"
             ],
             [
              0.1111111111111111,
              "#46039f"
             ],
             [
              0.2222222222222222,
              "#7201a8"
             ],
             [
              0.3333333333333333,
              "#9c179e"
             ],
             [
              0.4444444444444444,
              "#bd3786"
             ],
             [
              0.5555555555555556,
              "#d8576b"
             ],
             [
              0.6666666666666666,
              "#ed7953"
             ],
             [
              0.7777777777777778,
              "#fb9f3a"
             ],
             [
              0.8888888888888888,
              "#fdca26"
             ],
             [
              1,
              "#f0f921"
             ]
            ],
            "type": "surface"
           }
          ],
          "table": [
           {
            "cells": {
             "fill": {
              "color": "#EBF0F8"
             },
             "line": {
              "color": "white"
             }
            },
            "header": {
             "fill": {
              "color": "#C8D4E3"
             },
             "line": {
              "color": "white"
             }
            },
            "type": "table"
           }
          ]
         },
         "layout": {
          "annotationdefaults": {
           "arrowcolor": "#2a3f5f",
           "arrowhead": 0,
           "arrowwidth": 1
          },
          "autotypenumbers": "strict",
          "coloraxis": {
           "colorbar": {
            "outlinewidth": 0,
            "ticks": ""
           }
          },
          "colorscale": {
           "diverging": [
            [
             0,
             "#8e0152"
            ],
            [
             0.1,
             "#c51b7d"
            ],
            [
             0.2,
             "#de77ae"
            ],
            [
             0.3,
             "#f1b6da"
            ],
            [
             0.4,
             "#fde0ef"
            ],
            [
             0.5,
             "#f7f7f7"
            ],
            [
             0.6,
             "#e6f5d0"
            ],
            [
             0.7,
             "#b8e186"
            ],
            [
             0.8,
             "#7fbc41"
            ],
            [
             0.9,
             "#4d9221"
            ],
            [
             1,
             "#276419"
            ]
           ],
           "sequential": [
            [
             0,
             "#0d0887"
            ],
            [
             0.1111111111111111,
             "#46039f"
            ],
            [
             0.2222222222222222,
             "#7201a8"
            ],
            [
             0.3333333333333333,
             "#9c179e"
            ],
            [
             0.4444444444444444,
             "#bd3786"
            ],
            [
             0.5555555555555556,
             "#d8576b"
            ],
            [
             0.6666666666666666,
             "#ed7953"
            ],
            [
             0.7777777777777778,
             "#fb9f3a"
            ],
            [
             0.8888888888888888,
             "#fdca26"
            ],
            [
             1,
             "#f0f921"
            ]
           ],
           "sequentialminus": [
            [
             0,
             "#0d0887"
            ],
            [
             0.1111111111111111,
             "#46039f"
            ],
            [
             0.2222222222222222,
             "#7201a8"
            ],
            [
             0.3333333333333333,
             "#9c179e"
            ],
            [
             0.4444444444444444,
             "#bd3786"
            ],
            [
             0.5555555555555556,
             "#d8576b"
            ],
            [
             0.6666666666666666,
             "#ed7953"
            ],
            [
             0.7777777777777778,
             "#fb9f3a"
            ],
            [
             0.8888888888888888,
             "#fdca26"
            ],
            [
             1,
             "#f0f921"
            ]
           ]
          },
          "colorway": [
           "#636efa",
           "#EF553B",
           "#00cc96",
           "#ab63fa",
           "#FFA15A",
           "#19d3f3",
           "#FF6692",
           "#B6E880",
           "#FF97FF",
           "#FECB52"
          ],
          "font": {
           "color": "#2a3f5f"
          },
          "geo": {
           "bgcolor": "white",
           "lakecolor": "white",
           "landcolor": "#E5ECF6",
           "showlakes": true,
           "showland": true,
           "subunitcolor": "white"
          },
          "hoverlabel": {
           "align": "left"
          },
          "hovermode": "closest",
          "mapbox": {
           "style": "light"
          },
          "paper_bgcolor": "white",
          "plot_bgcolor": "#E5ECF6",
          "polar": {
           "angularaxis": {
            "gridcolor": "white",
            "linecolor": "white",
            "ticks": ""
           },
           "bgcolor": "#E5ECF6",
           "radialaxis": {
            "gridcolor": "white",
            "linecolor": "white",
            "ticks": ""
           }
          },
          "scene": {
           "xaxis": {
            "backgroundcolor": "#E5ECF6",
            "gridcolor": "white",
            "gridwidth": 2,
            "linecolor": "white",
            "showbackground": true,
            "ticks": "",
            "zerolinecolor": "white"
           },
           "yaxis": {
            "backgroundcolor": "#E5ECF6",
            "gridcolor": "white",
            "gridwidth": 2,
            "linecolor": "white",
            "showbackground": true,
            "ticks": "",
            "zerolinecolor": "white"
           },
           "zaxis": {
            "backgroundcolor": "#E5ECF6",
            "gridcolor": "white",
            "gridwidth": 2,
            "linecolor": "white",
            "showbackground": true,
            "ticks": "",
            "zerolinecolor": "white"
           }
          },
          "shapedefaults": {
           "line": {
            "color": "#2a3f5f"
           }
          },
          "ternary": {
           "aaxis": {
            "gridcolor": "white",
            "linecolor": "white",
            "ticks": ""
           },
           "baxis": {
            "gridcolor": "white",
            "linecolor": "white",
            "ticks": ""
           },
           "bgcolor": "#E5ECF6",
           "caxis": {
            "gridcolor": "white",
            "linecolor": "white",
            "ticks": ""
           }
          },
          "title": {
           "x": 0.05
          },
          "xaxis": {
           "automargin": true,
           "gridcolor": "white",
           "linecolor": "white",
           "ticks": "",
           "title": {
            "standoff": 15
           },
           "zerolinecolor": "white",
           "zerolinewidth": 2
          },
          "yaxis": {
           "automargin": true,
           "gridcolor": "white",
           "linecolor": "white",
           "ticks": "",
           "title": {
            "standoff": 15
           },
           "zerolinecolor": "white",
           "zerolinewidth": 2
          }
         }
        },
        "title": {
         "text": "10 BUSIEST ROUND TRIP ROUTES IN TERMS OF NUMBER OF ROUND TRIP FLIGHTS IN FIRST QUARTER, 2019"
        },
        "xaxis": {
         "anchor": "y",
         "autorange": true,
         "domain": [
          0,
          1
         ],
         "range": [
          -0.5,
          10.5
         ],
         "title": {
          "text": "Flight Trip Route"
         },
         "type": "category"
        },
        "yaxis": {
         "anchor": "x",
         "autorange": true,
         "domain": [
          0,
          1
         ],
         "range": [
          0,
          4395.789473684211
         ],
         "title": {
          "text": "Number of Round Trip Flights"
         },
         "type": "linear"
        }
       }
      },
      "image/png": "[encoded data removed]",
      "text/html": [
       "<div>                            <div id=\"261cc0cd-7969-42e3-9a79-4fd28905062c\" class=\"plotly-graph-div\" style=\"height:600px; width:100%;\"></div>            <script type=\"text/javascript\">                require([\"plotly\"], function(Plotly) {                    window.PLOTLYENV=window.PLOTLYENV || {};                                    if (document.getElementById(\"261cc0cd-7969-42e3-9a79-4fd28905062c\")) {                    Plotly.newPlot(                        \"261cc0cd-7969-42e3-9a79-4fd28905062c\",                        [{\"alignmentgroup\":\"True\",\"hovertemplate\":\"<b>%{hovertext}</b><br><br>Flight Trip Route=%{x}<br>Number of Round Trip Flights=%{y}<extra></extra>\",\"hovertext\":[\"SFO-LAX\",\"LAX-SFO\",\"ORD-LGA\",\"LGA-ORD\",\"LAX-LAS\",\"LAS-LAX\",\"LAX-JFK\",\"JFK-LAX\",\"LAX-SEA\",\"SEA-LAX\",\"LGA-BOS\"],\"legendgroup\":\"\",\"marker\":{\"color\":\"#3366CC\",\"pattern\":{\"shape\":\"\"}},\"name\":\"\",\"offsetgroup\":\"\",\"orientation\":\"v\",\"showlegend\":false,\"textposition\":\"auto\",\"x\":[\"SFO-LAX\",\"LAX-SFO\",\"ORD-LGA\",\"LGA-ORD\",\"LAX-LAS\",\"LAS-LAX\",\"LAX-JFK\",\"JFK-LAX\",\"LAX-SEA\",\"SEA-LAX\",\"LGA-BOS\"],\"xaxis\":\"x\",\"y\":[4176,4164,3580,3576,3257,3254,3162,3158,2502,2497,2415],\"yaxis\":\"y\",\"type\":\"bar\"}],                        {\"template\":{\"data\":{\"histogram2dcontour\":[{\"type\":\"histogram2dcontour\",\"colorbar\":{\"outlinewidth\":0,\"ticks\":\"\"},\"colorscale\":[[0.0,\"#0d0887\"],[0.1111111111111111,\"#46039f\"],[0.2222222222222222,\"#7201a8\"],[0.3333333333333333,\"#9c179e\"],[0.4444444444444444,\"#bd3786\"],[0.5555555555555556,\"#d8576b\"],[0.6666666666666666,\"#ed7953\"],[0.7777777777777778,\"#fb9f3a\"],[0.8888888888888888,\"#fdca26\"],[1.0,\"#f0f921\"]]}],\"choropleth\":[{\"type\":\"choropleth\",\"colorbar\":{\"outlinewidth\":0,\"ticks\":\"\"}}],\"histogram2d\":[{\"type\":\"histogram2d\",\"colorbar\":{\"outlinewidth\":0,\"ticks\":\"\"},\"colorscale\":[[0.0,\"#0d0887\"],[0.1111111111111111,\"#46039f\"],[0.2222222222222222,\"#7201a8\"],[0.3333333333333333,\"#9c179e\"],[0.4444444444444444,\"#bd3786\"],[0.5555555555555556,\"#d8576b\"],[0.6666666666666666,\"#ed7953\"],[0.7777777777777778,\"#fb9f3a\"],[0.8888888888888888,\"#fdca26\"],[1.0,\"#f0f921\"]]}],\"heatmap\":[{\"type\":\"heatmap\",\"colorbar\":{\"outlinewidth\":0,\"ticks\":\"\"},\"colorscale\":[[0.0,\"#0d0887\"],[0.1111111111111111,\"#46039f\"],[0.2222222222222222,\"#7201a8\"],[0.3333333333333333,\"#9c179e\"],[0.4444444444444444,\"#bd3786\"],[0.5555555555555556,\"#d8576b\"],[0.6666666666666666,\"#ed7953\"],[0.7777777777777778,\"#fb9f3a\"],[0.8888888888888888,\"#fdca26\"],[1.0,\"#f0f921\"]]}],\"heatmapgl\":[{\"type\":\"heatmapgl\",\"colorbar\":{\"outlinewidth\":0,\"ticks\":\"\"},\"colorscale\":[[0.0,\"#0d0887\"],[0.1111111111111111,\"#46039f\"],[0.2222222222222222,\"#7201a8\"],[0.3333333333333333,\"#9c179e\"],[0.4444444444444444,\"#bd3786\"],[0.5555555555555556,\"#d8576b\"],[0.6666666666666666,\"#ed7953\"],[0.7777777777777778,\"#fb9f3a\"],[0.8888888888888888,\"#fdca26\"],[1.0,\"#f0f921\"]]}],\"contourcarpet\":[{\"type\":\"contourcarpet\",\"colorbar\":{\"outlinewidth\":0,\"ticks\":\"\"}}],\"contour\":[{\"type\":\"contour\",\"colorbar\":{\"outlinewidth\":0,\"ticks\":\"\"},\"colorscale\":[[0.0,\"#0d0887\"],[0.1111111111111111,\"#46039f\"],[0.2222222222222222,\"#7201a8\"],[0.3333333333333333,\"#9c179e\"],[0.4444444444444444,\"#bd3786\"],[0.5555555555555556,\"#d8576b\"],[0.6666666666666666,\"#ed7953\"],[0.7777777777777778,\"#fb9f3a\"],[0.8888888888888888,\"#fdca26\"],[1.0,\"#f0f921\"]]}],\"surface\":[{\"type\":\"surface\",\"colorbar\":{\"outlinewidth\":0,\"ticks\":\"\"},\"colorscale\":[[0.0,\"#0d0887\"],[0.1111111111111111,\"#46039f\"],[0.2222222222222222,\"#7201a8\"],[0.3333333333333333,\"#9c179e\"],[0.4444444444444444,\"#bd3786\"],[0.5555555555555556,\"#d8576b\"],[0.6666666666666666,\"#ed7953\"],[0.7777777777777778,\"#fb9f3a\"],[0.8888888888888888,\"#fdca26\"],[1.0,\"#f0f921\"]]}],\"mesh3d\":[{\"type\":\"mesh3d\",\"colorbar\":{\"outlinewidth\":0,\"ticks\":\"\"}}],\"scatter\":[{\"fillpattern\":{\"fillmode\":\"overlay\",\"size\":10,\"solidity\":0.2},\"type\":\"scatter\"}],\"parcoords\":[{\"type\":\"parcoords\",\"line\":{\"colorbar\":{\"outlinewidth\":0,\"ticks\":\"\"}}}],\"scatterpolargl\":[{\"type\":\"scatterpolargl\",\"marker\":{\"colorbar\":{\"outlinewidth\":0,\"ticks\":\"\"}}}],\"bar\":[{\"error_x\":{\"color\":\"#2a3f5f\"},\"error_y\":{\"color\":\"#2a3f5f\"},\"marker\":{\"line\":{\"color\":\"#E5ECF6\",\"width\":0.5},\"pattern\":{\"fillmode\":\"overlay\",\"size\":10,\"solidity\":0.2}},\"type\":\"bar\"}],\"scattergeo\":[{\"type\":\"scattergeo\",\"marker\":{\"colorbar\":{\"outlinewidth\":0,\"ticks\":\"\"}}}],\"scatterpolar\":[{\"type\":\"scatterpolar\",\"marker\":{\"colorbar\":{\"outlinewidth\":0,\"ticks\":\"\"}}}],\"histogram\":[{\"marker\":{\"pattern\":{\"fillmode\":\"overlay\",\"size\":10,\"solidity\":0.2}},\"type\":\"histogram\"}],\"scattergl\":[{\"type\":\"scattergl\",\"marker\":{\"colorbar\":{\"outlinewidth\":0,\"ticks\":\"\"}}}],\"scatter3d\":[{\"type\":\"scatter3d\",\"line\":{\"colorbar\":{\"outlinewidth\":0,\"ticks\":\"\"}},\"marker\":{\"colorbar\":{\"outlinewidth\":0,\"ticks\":\"\"}}}],\"scattermapbox\":[{\"type\":\"scattermapbox\",\"marker\":{\"colorbar\":{\"outlinewidth\":0,\"ticks\":\"\"}}}],\"scatterternary\":[{\"type\":\"scatterternary\",\"marker\":{\"colorbar\":{\"outlinewidth\":0,\"ticks\":\"\"}}}],\"scattercarpet\":[{\"type\":\"scattercarpet\",\"marker\":{\"colorbar\":{\"outlinewidth\":0,\"ticks\":\"\"}}}],\"carpet\":[{\"aaxis\":{\"endlinecolor\":\"#2a3f5f\",\"gridcolor\":\"white\",\"linecolor\":\"white\",\"minorgridcolor\":\"white\",\"startlinecolor\":\"#2a3f5f\"},\"baxis\":{\"endlinecolor\":\"#2a3f5f\",\"gridcolor\":\"white\",\"linecolor\":\"white\",\"minorgridcolor\":\"white\",\"startlinecolor\":\"#2a3f5f\"},\"type\":\"carpet\"}],\"table\":[{\"cells\":{\"fill\":{\"color\":\"#EBF0F8\"},\"line\":{\"color\":\"white\"}},\"header\":{\"fill\":{\"color\":\"#C8D4E3\"},\"line\":{\"color\":\"white\"}},\"type\":\"table\"}],\"barpolar\":[{\"marker\":{\"line\":{\"color\":\"#E5ECF6\",\"width\":0.5},\"pattern\":{\"fillmode\":\"overlay\",\"size\":10,\"solidity\":0.2}},\"type\":\"barpolar\"}],\"pie\":[{\"automargin\":true,\"type\":\"pie\"}]},\"layout\":{\"autotypenumbers\":\"strict\",\"colorway\":[\"#636efa\",\"#EF553B\",\"#00cc96\",\"#ab63fa\",\"#FFA15A\",\"#19d3f3\",\"#FF6692\",\"#B6E880\",\"#FF97FF\",\"#FECB52\"],\"font\":{\"color\":\"#2a3f5f\"},\"hovermode\":\"closest\",\"hoverlabel\":{\"align\":\"left\"},\"paper_bgcolor\":\"white\",\"plot_bgcolor\":\"#E5ECF6\",\"polar\":{\"bgcolor\":\"#E5ECF6\",\"angularaxis\":{\"gridcolor\":\"white\",\"linecolor\":\"white\",\"ticks\":\"\"},\"radialaxis\":{\"gridcolor\":\"white\",\"linecolor\":\"white\",\"ticks\":\"\"}},\"ternary\":{\"bgcolor\":\"#E5ECF6\",\"aaxis\":{\"gridcolor\":\"white\",\"linecolor\":\"white\",\"ticks\":\"\"},\"baxis\":{\"gridcolor\":\"white\",\"linecolor\":\"white\",\"ticks\":\"\"},\"caxis\":{\"gridcolor\":\"white\",\"linecolor\":\"white\",\"ticks\":\"\"}},\"coloraxis\":{\"colorbar\":{\"outlinewidth\":0,\"ticks\":\"\"}},\"colorscale\":{\"sequential\":[[0.0,\"#0d0887\"],[0.1111111111111111,\"#46039f\"],[0.2222222222222222,\"#7201a8\"],[0.3333333333333333,\"#9c179e\"],[0.4444444444444444,\"#bd3786\"],[0.5555555555555556,\"#d8576b\"],[0.6666666666666666,\"#ed7953\"],[0.7777777777777778,\"#fb9f3a\"],[0.8888888888888888,\"#fdca26\"],[1.0,\"#f0f921\"]],\"sequentialminus\":[[0.0,\"#0d0887\"],[0.1111111111111111,\"#46039f\"],[0.2222222222222222,\"#7201a8\"],[0.3333333333333333,\"#9c179e\"],[0.4444444444444444,\"#bd3786\"],[0.5555555555555556,\"#d8576b\"],[0.6666666666666666,\"#ed7953\"],[0.7777777777777778,\"#fb9f3a\"],[0.8888888888888888,\"#fdca26\"],[1.0,\"#f0f921\"]],\"diverging\":[[0,\"#8e0152\"],[0.1,\"#c51b7d\"],[0.2,\"#de77ae\"],[0.3,\"#f1b6da\"],[0.4,\"#fde0ef\"],[0.5,\"#f7f7f7\"],[0.6,\"#e6f5d0\"],[0.7,\"#b8e186\"],[0.8,\"#7fbc41\"],[0.9,\"#4d9221\"],[1,\"#276419\"]]},\"xaxis\":{\"gridcolor\":\"white\",\"linecolor\":\"white\",\"ticks\":\"\",\"title\":{\"standoff\":15},\"zerolinecolor\":\"white\",\"automargin\":true,\"zerolinewidth\":2},\"yaxis\":{\"gridcolor\":\"white\",\"linecolor\":\"white\",\"ticks\":\"\",\"title\":{\"standoff\":15},\"zerolinecolor\":\"white\",\"automargin\":true,\"zerolinewidth\":2},\"scene\":{\"xaxis\":{\"backgroundcolor\":\"#E5ECF6\",\"gridcolor\":\"white\",\"linecolor\":\"white\",\"showbackground\":true,\"ticks\":\"\",\"zerolinecolor\":\"white\",\"gridwidth\":2},\"yaxis\":{\"backgroundcolor\":\"#E5ECF6\",\"gridcolor\":\"white\",\"linecolor\":\"white\",\"showbackground\":true,\"ticks\":\"\",\"zerolinecolor\":\"white\",\"gridwidth\":2},\"zaxis\":{\"backgroundcolor\":\"#E5ECF6\",\"gridcolor\":\"white\",\"linecolor\":\"white\",\"showbackground\":true,\"ticks\":\"\",\"zerolinecolor\":\"white\",\"gridwidth\":2}},\"shapedefaults\":{\"line\":{\"color\":\"#2a3f5f\"}},\"annotationdefaults\":{\"arrowcolor\":\"#2a3f5f\",\"arrowhead\":0,\"arrowwidth\":1},\"geo\":{\"bgcolor\":\"white\",\"landcolor\":\"#E5ECF6\",\"subunitcolor\":\"white\",\"showland\":true,\"showlakes\":true,\"lakecolor\":\"white\"},\"title\":{\"x\":0.05},\"mapbox\":{\"style\":\"light\"}}},\"xaxis\":{\"anchor\":\"y\",\"domain\":[0.0,1.0],\"title\":{\"text\":\"Flight Trip Route\"}},\"yaxis\":{\"anchor\":\"x\",\"domain\":[0.0,1.0],\"title\":{\"text\":\"Number of Round Trip Flights\"}},\"legend\":{\"tracegroupgap\":0},\"title\":{\"text\":\"10 BUSIEST ROUND TRIP ROUTES IN TERMS OF NUMBER OF ROUND TRIP FLIGHTS IN FIRST QUARTER, 2019\"},\"barmode\":\"relative\",\"height\":600},                        {\"responsive\": true}                    ).then(function(){\n",
       "                            \n",
       "var gd = document.getElementById('261cc0cd-7969-42e3-9a79-4fd28905062c');\n",
       "var x = new MutationObserver(function (mutations, observer) {{\n",
       "        var display = window.getComputedStyle(gd).display;\n",
       "        if (!display || display === 'none') {{\n",
       "            console.log([gd, 'removed!']);\n",
       "            Plotly.purge(gd);\n",
       "            observer.disconnect();\n",
       "        }}\n",
       "}});\n",
       "\n",
       "// Listen for the removal of the full notebook cells\n",
       "var notebookContainer = gd.closest('#notebook-container');\n",
       "if (notebookContainer) {{\n",
       "    x.observe(notebookContainer, {childList: true});\n",
       "}}\n",
       "\n",
       "// Listen for the clearing of the current output cell\n",
       "var outputEl = gd.closest('.output');\n",
       "if (outputEl) {{\n",
       "    x.observe(outputEl, {childList: true});\n",
       "}}\n",
       "\n",
       "                        })                };                });            </script>        </div>"
      ]
     },
     "metadata": {},
     "output_type": "display_data"
    },
    {
     "data": {
      "text/plain": [
       "<Figure size 1200x600 with 0 Axes>"
      ]
     },
     "metadata": {},
     "output_type": "display_data"
    }
   ],
   "source": [
    "fig = plt.figure(figsize=(12, 6))\n",
    "fig = px.bar(top_10_trip_freq, \n",
    "             x = \"ROUTE\", \n",
    "             y = \"TRIP_FREQ\", \n",
    "             hover_name = \"ROUTE\", \n",
    "             color_discrete_sequence = px.colors.qualitative.G10,\n",
    "             title = \"10 BUSIEST ROUND TRIP ROUTES IN TERMS OF NUMBER OF ROUND TRIP FLIGHTS IN FIRST QUARTER, 2019\",\n",
    "             labels = {\"TRIP_FREQ\": \"Number of Round Trip Flights\", \"ROUTE\": \"Flight Trip Route\"},\n",
    "             height = 600)\n",
    "\n",
    "fig.show()"
   ]
  },
  {
   "cell_type": "markdown",
   "id": "a9544e0d-40bf-4b40-9905-e1ad8a4be160",
   "metadata": {},
   "source": [
    "#### 🎯 **The `10 most profitable round trip routes` (without considering the upfront airplane cost) inthe quarter. Along with the profit, show total revenue, total cost, summary values of other key components and total round trip flights in the quarter for the top 10 most profitable routes. Exclude canceled flights from these calculations.**"
   ]
  }
 ],
 "metadata": {
  "kernelspec": {
   "display_name": "Python 3 (ipykernel)",
   "language": "python",
   "name": "python3"
  },
  "language_info": {
   "codemirror_mode": {
    "name": "ipython",
    "version": 3
   },
   "file_extension": ".py",
   "mimetype": "text/x-python",
   "name": "python",
   "nbconvert_exporter": "python",
   "pygments_lexer": "ipython3",
   "version": "3.9.13"
  }
 },
 "nbformat": 4,
 "nbformat_minor": 5
}
